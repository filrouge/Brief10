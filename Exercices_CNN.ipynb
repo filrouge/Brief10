{
 "cells": [
  {
   "cell_type": "markdown",
   "id": "76d3f84c",
   "metadata": {},
   "source": [
    "Exercise n°1 \n",
    "* Créer une fonction linéaire lin_reg1 qui prend en paramètre la liste X avec les poids wk et le biais b\n",
    "\n",
    "* Créer une fonction d’activation \"RELU\"\n",
    "\n",
    "* Construction de deux sorties (linreg_2 et linreg_3 suivie par la fonction d’activation activation)\n",
    "\n",
    "* Sortie de la 1ère couche comme entrées d’une seconde couche (activation_next_layer: sigmoide)"
   ]
  },
  {
   "cell_type": "code",
   "execution_count": 1,
   "id": "d08064c0",
   "metadata": {},
   "outputs": [],
   "source": [
    "import pandas as pd\n",
    "import numpy as np"
   ]
  },
  {
   "cell_type": "markdown",
   "id": "b2d0bdad",
   "metadata": {},
   "source": [
    "#### Version avec liste"
   ]
  },
  {
   "cell_type": "code",
   "execution_count": 2,
   "id": "be4ac6be",
   "metadata": {},
   "outputs": [],
   "source": [
    "X = [1, -3.1, -7.2, 2.1]\n",
    "poids = [2.1, 1.2, 0.3, 1.3]\n",
    "biais = -3\n",
    "def lin_reg1(X, poids, biais):\n",
    "    y = [x*p for x, p in zip(X, poids)]\n",
    "    output = sum(y) + biais\n",
    "    return(output)\n",
    "\n",
    "def activation(output):\n",
    "    if output < 0:\n",
    "        output = 0\n",
    "    else:\n",
    "        output = output\n",
    "    return(output)"
   ]
  },
  {
   "cell_type": "code",
   "execution_count": 3,
   "id": "d3462b37",
   "metadata": {},
   "outputs": [],
   "source": [
    "out_1 = activation(lin_reg1(X, poids, biais))"
   ]
  },
  {
   "cell_type": "code",
   "execution_count": 4,
   "id": "97e815df",
   "metadata": {},
   "outputs": [],
   "source": [
    "X = [1, -3.1, -7.2, 2.1]\n",
    "poids = [0.1, 1.2, 4.9, 3.1]\n",
    "biais = -5\n",
    "\n",
    "def linreg_2(X, poids, biais):\n",
    "    y = [x*p for x, p in zip(X, poids)]\n",
    "    output = sum(y) + biais\n",
    "    output = activation(output)\n",
    "    return(output)"
   ]
  },
  {
   "cell_type": "code",
   "execution_count": 5,
   "id": "48fafd04",
   "metadata": {},
   "outputs": [],
   "source": [
    "out_2 = linreg_2(X, poids, biais)"
   ]
  },
  {
   "cell_type": "code",
   "execution_count": 6,
   "id": "541e1611",
   "metadata": {},
   "outputs": [],
   "source": [
    "X = [1, -3.1, -7.2, 2.1]\n",
    "poids = [0.4, 2.6, 2.5, 3.8]\n",
    "biais = -8\n",
    "\n",
    "def linreg_3(X, poids, biais):\n",
    "    y = [x*p for x, p in zip(X, poids)]\n",
    "    output = sum(y) + biais\n",
    "    output = activation(output)\n",
    "    return(output)"
   ]
  },
  {
   "cell_type": "code",
   "execution_count": 7,
   "id": "db307822",
   "metadata": {},
   "outputs": [],
   "source": [
    "out_3 = linreg_3(X, poids, biais)"
   ]
  },
  {
   "cell_type": "code",
   "execution_count": 8,
   "id": "f99505b6",
   "metadata": {},
   "outputs": [],
   "source": [
    "def activation_next_layer(output):\n",
    "    output = 1/(1 + np.exp(-output))\n",
    "    return(output)"
   ]
  },
  {
   "cell_type": "code",
   "execution_count": 9,
   "id": "09c35648",
   "metadata": {},
   "outputs": [],
   "source": [
    "poids = [1.1, -4.1, 0.7]\n",
    "b = 5.1\n",
    "X = [out_1, out_2, out_3]\n",
    "def linreg_next_layer(X, poids, biais):\n",
    "    y = [x*p for x, p in zip(X, poids)]\n",
    "    output = sum(y) + biais\n",
    "    output = activation_next_layer(output)\n",
    "    return(output)"
   ]
  },
  {
   "cell_type": "code",
   "execution_count": 10,
   "id": "adb0dcb0",
   "metadata": {},
   "outputs": [
    {
     "data": {
      "text/plain": [
       "0.9939401985084158"
      ]
     },
     "execution_count": 10,
     "metadata": {},
     "output_type": "execute_result"
    }
   ],
   "source": [
    "linreg_next_layer(X, poids, b)"
   ]
  },
  {
   "cell_type": "markdown",
   "id": "57f84039",
   "metadata": {},
   "source": [
    "#### Version avec array"
   ]
  },
  {
   "cell_type": "code",
   "execution_count": 11,
   "id": "e345bd51",
   "metadata": {},
   "outputs": [],
   "source": [
    "def lin_reg1(X, poids, biais):\n",
    "    output = X.dot(poids.T) + biais\n",
    "    \n",
    "    return output\n",
    "\n",
    "\n",
    "def activation(output):\n",
    "    if output < 0: return 0\n",
    "    \n",
    "    return output"
   ]
  },
  {
   "cell_type": "code",
   "execution_count": 12,
   "id": "3bab47c2",
   "metadata": {},
   "outputs": [],
   "source": [
    "def activation_next_layer(output):\n",
    "    output = 1/(1 + np.exp(-output))\n",
    "    \n",
    "    return output\n",
    "\n",
    "\n",
    "def linreg_next_layer(X, poids, biais):\n",
    "    output = X.dot(poids.T) + biais\n",
    "    output = activation_next_layer(output)\n",
    "    \n",
    "    return output"
   ]
  },
  {
   "cell_type": "code",
   "execution_count": 13,
   "id": "a8a66121",
   "metadata": {},
   "outputs": [],
   "source": [
    "X = np.array([1, -3.1, -7.2, 2.1])"
   ]
  },
  {
   "cell_type": "code",
   "execution_count": 14,
   "id": "573f9326",
   "metadata": {},
   "outputs": [],
   "source": [
    "poids = [2.1, 1.2, 0.3, 1.3]\n",
    "poids = np.array(poids)\n",
    "biais = -3\n",
    "out_1 = lin_reg1(X, poids, biais)\n",
    "out_1 = activation(out_1)"
   ]
  },
  {
   "cell_type": "code",
   "execution_count": 15,
   "id": "107ab1c5",
   "metadata": {},
   "outputs": [],
   "source": [
    "poids = [0.1, 1.2, 4.9, 3.1]\n",
    "poids = np.array(poids)\n",
    "biais = -5\n",
    "out_2 = lin_reg1(X, poids, biais)\n",
    "out_2 = activation(out_2)"
   ]
  },
  {
   "cell_type": "code",
   "execution_count": 16,
   "id": "503b759e",
   "metadata": {},
   "outputs": [],
   "source": [
    "poids = [0.4, 2.6, 2.5, 3.8]\n",
    "poids = np.array(poids)\n",
    "biais = -8\n",
    "out_3 = lin_reg1(X, poids, biais)\n",
    "out_3 = activation(out_3)"
   ]
  },
  {
   "cell_type": "code",
   "execution_count": 17,
   "id": "c4aa52cc",
   "metadata": {},
   "outputs": [],
   "source": [
    "X=np.array([out_1, out_2, out_3])"
   ]
  },
  {
   "cell_type": "code",
   "execution_count": 18,
   "id": "1e1742b6",
   "metadata": {},
   "outputs": [
    {
     "data": {
      "text/plain": [
       "0.9939401985084158"
      ]
     },
     "execution_count": 18,
     "metadata": {},
     "output_type": "execute_result"
    }
   ],
   "source": [
    "poids = [1.1, -4.1, 0.7]\n",
    "poids = np.array(poids)\n",
    "biais = 5.1\n",
    "linreg_next_layer(X, poids, biais)"
   ]
  },
  {
   "cell_type": "code",
   "execution_count": null,
   "id": "817cc4fd",
   "metadata": {},
   "outputs": [],
   "source": []
  }
 ],
 "metadata": {
  "kernelspec": {
   "display_name": "Python 3 (ipykernel)",
   "language": "python",
   "name": "python3"
  },
  "language_info": {
   "codemirror_mode": {
    "name": "ipython",
    "version": 3
   },
   "file_extension": ".py",
   "mimetype": "text/x-python",
   "name": "python",
   "nbconvert_exporter": "python",
   "pygments_lexer": "ipython3",
   "version": "3.8.12"
  }
 },
 "nbformat": 4,
 "nbformat_minor": 5
}
